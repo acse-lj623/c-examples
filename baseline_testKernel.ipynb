{
  "nbformat": 4,
  "nbformat_minor": 0,
  "metadata": {
    "colab": {
      "provenance": [],
      "gpuType": "V100",
      "include_colab_link": true
    },
    "kernelspec": {
      "name": "python3",
      "display_name": "Python 3"
    },
    "language_info": {
      "name": "python"
    },
    "accelerator": "GPU"
  },
  "cells": [
    {
      "cell_type": "markdown",
      "metadata": {
        "id": "view-in-github",
        "colab_type": "text"
      },
      "source": [
        "<a href=\"https://colab.research.google.com/github/acse-lj623/c-examples/blob/main/baseline_testKernel.ipynb\" target=\"_parent\"><img src=\"https://colab.research.google.com/assets/colab-badge.svg\" alt=\"Open In Colab\"/></a>"
      ]
    },
    {
      "cell_type": "code",
      "source": [
        "from google.colab import drive\n",
        "drive.mount('/content/gdrive/')"
      ],
      "metadata": {
        "colab": {
          "base_uri": "https://localhost:8080/"
        },
        "id": "wB9l9WLVmwek",
        "outputId": "d65c06a8-f959-4bd5-ffb0-1af4bb8dbb35"
      },
      "execution_count": 3,
      "outputs": [
        {
          "output_type": "stream",
          "name": "stdout",
          "text": [
            "Mounted at /content/gdrive/\n"
          ]
        }
      ]
    },
    {
      "cell_type": "code",
      "execution_count": 4,
      "metadata": {
        "id": "8qZnPHa10__0"
      },
      "outputs": [],
      "source": [
        "import os\n",
        "import json\n",
        "import torch\n",
        "import pandas as pd\n",
        "import numpy as np\n",
        "from sklearn.metrics import mean_squared_error\n",
        "from sklearn.gaussian_process import GaussianProcessRegressor\n",
        "from sklearn.gaussian_process.kernels import RBF, ConstantKernel as C\n",
        "from sklearn.model_selection import GridSearchCV\n",
        "import matplotlib.pyplot as plt\n"
      ]
    },
    {
      "cell_type": "code",
      "source": [
        "device = 'cpu'\n",
        "if torch.cuda.device_count() > 0 and torch.cuda.is_available():\n",
        "    print(\"Cuda installed! Running on GPU!\")\n",
        "    device = 'cuda'\n",
        "else:\n",
        "    print(\"No GPU available!\")"
      ],
      "metadata": {
        "colab": {
          "base_uri": "https://localhost:8080/"
        },
        "id": "6QexytCrqtYZ",
        "outputId": "cb288712-3791-4545-eb7b-135207e7d34e"
      },
      "execution_count": 5,
      "outputs": [
        {
          "output_type": "stream",
          "name": "stdout",
          "text": [
            "Cuda installed! Running on GPU!\n"
          ]
        }
      ]
    },
    {
      "cell_type": "code",
      "source": [
        "big_folder_path = '/content/gdrive/MyDrive/walid/Selected_Storms_curated'\n",
        "\n",
        "# 获取所有文件夹并按文件名数字进行排序\n",
        "storm_folders = sorted([f for f in os.listdir(big_folder_path) if os.path.isdir(os.path.join(big_folder_path, f))],\n",
        "                       key=lambda x: int(x.split('_')[1]) if '_' in x and x.split('_')[1].isdigit() else float('inf'))\n",
        "\n",
        "for folder_name in storm_folders:\n",
        "    folder_path = os.path.join(big_folder_path, folder_name)\n",
        "\n",
        "    # 用于存储每个子文件夹中的时间数据和标签数据\n",
        "    time_data_list = []\n",
        "    label_data_list = []\n",
        "\n",
        "    # 遍历每个子文件夹中的所有文件\n",
        "    for file_name in sorted(os.listdir(folder_path)):\n",
        "        file_path = os.path.join(folder_path, file_name)\n",
        "\n",
        "# 以下两'假设'部分可以考虑如果'假设'不成立的情况，则略过这一组数据（无效数据，防止报错）\n",
        "        # 读取 features 中的 time 数据\n",
        "        if 'features' in file_name:\n",
        "            with open(file_path, 'r') as file:\n",
        "                features_data = json.load(file)\n",
        "                # 假设 features 数据中有一个字段叫 'relative_time'\n",
        "                time_data_list.append(features_data.get('relative_time', None))\n",
        "\n",
        "        # 读取 label 数据\n",
        "        elif 'label' in file_name:\n",
        "            with open(file_path, 'r') as file:\n",
        "                label_data = json.load(file)\n",
        "                # 假设 label 数据中有一个字段叫 'wind_speed'\n",
        "                label_data_list.append(label_data.get('wind_speed', None))\n",
        "\n",
        "    # 将 time_data_list 和 label_data_list 转换为 DataFrame，并添加 'storm_id' 列\n",
        "    df = pd.DataFrame({'Time Data': time_data_list, 'Label Data': label_data_list, 'storm_id': folder_name})\n",
        "\n",
        "    # 计算百分位位置\n",
        "    df['pct_of_storm'] = df.groupby('storm_id').cumcount() / df.groupby('storm_id')['storm_id'].transform('size')\n",
        "\n",
        "    # 划分训练集和验证集\n",
        "    train_df = df[df['pct_of_storm'] < 0.8].drop(['pct_of_storm'], axis=1)\n",
        "    val_df = df[df['pct_of_storm'] >= 0.8].drop(['pct_of_storm'], axis=1)\n"
      ],
      "metadata": {
        "id": "9vzp2cTInu-S"
      },
      "execution_count": 6,
      "outputs": []
    },
    {
      "cell_type": "code",
      "source": [
        "for storm_id, group in df.groupby('storm_id'):\n",
        "    print(f\"Storm ID: {storm_id}\")\n",
        "    print(group)\n",
        "    print(\"\\n\")  # 添加空行分隔不同的风暴\n"
      ],
      "metadata": {
        "colab": {
          "base_uri": "https://localhost:8080/"
        },
        "id": "3kZCd9c30t_i",
        "outputId": "eb4faece-b772-49bd-ae83-9c3f25881b03"
      },
      "execution_count": 11,
      "outputs": [
        {
          "output_type": "stream",
          "name": "stdout",
          "text": [
            "Storm ID: bkh\n",
            "    Time Data Label Data storm_id  pct_of_storm\n",
            "0           0         25      bkh      0.000000\n",
            "1        1801         25      bkh      0.002439\n",
            "2        3600         25      bkh      0.004878\n",
            "3        5400         25      bkh      0.007317\n",
            "4        7200         25      bkh      0.009756\n",
            "..        ...        ...      ...           ...\n",
            "405   1022400         30      bkh      0.987805\n",
            "406   1026001         30      bkh      0.990244\n",
            "407   1027801         30      bkh      0.992683\n",
            "408   1029601         30      bkh      0.995122\n",
            "409   1031401         30      bkh      0.997561\n",
            "\n",
            "[410 rows x 4 columns]\n",
            "\n",
            "\n"
          ]
        }
      ]
    },
    {
      "cell_type": "code",
      "source": [
        "from sklearn.model_selection import RandomizedSearchCV\n",
        "from sklearn.gaussian_process import GaussianProcessRegressor, kernels\n",
        "import numpy as np\n",
        "# 定义要搜索的核函数超参数的范围\n",
        "param_dist = {\n",
        "    'kernel': [\n",
        "        1.0 * kernels.Matern(length_scale=1.0, length_scale_bounds=(1e-3, 1e3), nu=2.5),  # Matern内核\n",
        "        1.0 * kernels.DotProduct(sigma_0=1.0, sigma_0_bounds=(1e-3, 1e3)),  # DotProduct内核\n",
        "        1.0 * kernels.ConstantKernel(constant_value=1.0, constant_value_bounds=(1e-3, 1e3)),  # 恒定内核\n",
        "        1.0 * kernels.RationalQuadratic(length_scale=1.0, length_scale_bounds=(1e-3, 1e3), alpha=1.0),  # RationalQuadratic内核\n",
        "\n",
        "    ],\n",
        "    'alpha': np.logspace(-6, 2, 10),  # 扩大 alpha 参数范围\n",
        "}\n",
        "\n",
        "\n",
        "\n",
        "gpr = GaussianProcessRegressor()\n",
        "\n",
        "# 初始化 RandomizedSearchCV\n",
        "random_search = RandomizedSearchCV(\n",
        "    gpr, param_distributions=param_dist, n_iter=10, cv=5, random_state=42, n_jobs=-1, verbose=1)\n",
        "\n",
        "# 执行随机搜索\n",
        "X_train = train_df[['Time Data']]  # 只包含 'Time Data' 列\n",
        "y_train = train_df['Label Data']  # 'Label Data' 列作为目标变量\n",
        "\n",
        "random_search.fit(X_train, y_train)\n",
        "\n",
        "# 打印最佳核函数和超参数组合\n",
        "print(\"Best kernel and hyperparameters:\", random_search.best_params_)\n",
        "\n",
        "# 打印最佳交叉验证分数\n",
        "print(\"Best cross-validation score:\", random_search.best_score_)"
      ],
      "metadata": {
        "colab": {
          "base_uri": "https://localhost:8080/"
        },
        "id": "FtxY6BG-3wc2",
        "outputId": "9625095e-f3aa-4993-99ba-d580e333e737"
      },
      "execution_count": 10,
      "outputs": [
        {
          "output_type": "stream",
          "name": "stdout",
          "text": [
            "Fitting 5 folds for each of 10 candidates, totalling 50 fits\n",
            "Best kernel and hyperparameters: {'kernel': 1**2 * RationalQuadratic(alpha=1, length_scale=1), 'alpha': 0.00046415888336127773}\n",
            "Best cross-validation score: -6.9630163176476305\n"
          ]
        },
        {
          "output_type": "stream",
          "name": "stderr",
          "text": [
            "/usr/local/lib/python3.10/dist-packages/sklearn/gaussian_process/kernels.py:430: ConvergenceWarning: The optimal value found for dimension 0 of parameter k2__length_scale is close to the specified upper bound 1000.0. Increasing the bound and calling fit again may find a better value.\n",
            "  warnings.warn(\n"
          ]
        }
      ]
    },
    {
      "cell_type": "code",
      "source": [
        "# 定义核函数\n",
        "# kernel = C(1000.0, (1e-3, 1e4)) * RBF(0.1, (1e-3, 1e4))\n",
        "# kernel = 1**2 * kernels.ExpSineSquared(length_scale=1, periodicity=1) * RBF(length_scale=1.0)\n",
        "kernel = kernels.RationalQuadratic(alpha=1, length_scale=1)\n",
        "\n",
        "# 定义 Gaussian Process 回归模型\n",
        "gpr = GaussianProcessRegressor(kernel=kernel, n_restarts_optimizer=10)\n",
        "\n",
        "# 初始化预测结果列\n",
        "\n",
        "\n",
        "df['Label Data'] = pd.to_numeric(df['Label Data'], errors='coerce')\n",
        "df['Time Data'] = pd.to_numeric(df['Time Data'], errors='coerce')\n",
        "df['predicted'] = 0.0\n",
        "\n",
        "# 按照风暴分组，对每个风暴进行单独的拟合\n",
        "for storm_id, group_df in df.groupby('storm_id'):\n",
        "    print(f\"Storm {storm_id} - Training Size: {sum(group_df['pct_of_storm'] < 0.8)}, Testing Size: {sum(group_df['pct_of_storm'] >= 0.8)}\")\n",
        "\n",
        "    X_train = group_df.loc[group_df['pct_of_storm'] < 0.8, ['Time Data']]\n",
        "    y_train = group_df.loc[group_df['pct_of_storm'] < 0.8, 'Label Data']\n",
        "    X_test = group_df.loc[group_df['pct_of_storm'] >= 0.8, ['Time Data']]\n",
        "\n",
        "    # 拟合模型\n",
        "    gpr.fit(X_train, y_train)\n",
        "\n",
        "    # 预测并将结果存储到 DataFrame 中\n",
        "    # df.loc[group_df[group_df['pct_of_storm'] >= 0.8].index, 'predicted'] = gpr.predict(X_test)\n",
        "    df.loc[group_df[group_df['pct_of_storm'] >= 0.8].index, 'predicted'] = gpr.predict(X_test)\n",
        "\n",
        "    # 重新从 df 中选出 group_df 以包含最新的预测值\n",
        "    group_df = df[df['storm_id'] == storm_id]\n",
        "\n",
        "\n",
        "\n",
        "    # New print statement to confirm processing of each storm\n",
        "    print(f\"Processed Storm {storm_id}\")\n",
        "\n",
        "# modified\n",
        "\n",
        "    # 以下是绘图代码\n",
        "    group_df = group_df.sort_values(by='Time Data')\n",
        "    plt.figure(figsize=(10, 6))\n",
        "\n",
        "    # 提取时间数据、标签数据和预测结果\n",
        "    time_data = group_df['Time Data']\n",
        "    label_data = group_df['Label Data']\n",
        "    predicted_data = group_df['predicted']\n",
        "\n",
        "    # 绘制标签数据\n",
        "    plt.plot(time_data, label_data, label='Label Data', marker='.')\n",
        "\n",
        "    # 绘制预测结果\n",
        "    plt.plot(time_data, predicted_data, label='Predicted Data', marker='.', linestyle=':')\n",
        "\n",
        "    # 设置图表标题、横纵坐标标签和图例\n",
        "    plt.title(f'Storm {storm_id} - Speed Prediction')\n",
        "    plt.xlabel('Time')\n",
        "    plt.ylabel('Speed')\n",
        "    plt.legend()\n",
        "\n",
        "    # 显示图表\n",
        "    plt.grid(False)\n",
        "    plt.show()\n",
        "\n",
        "# 输出结果\n",
        "print(df[['Time Data', 'Label Data', 'storm_id', 'predicted']])"
      ],
      "metadata": {
        "colab": {
          "base_uri": "https://localhost:8080/",
          "height": 850
        },
        "id": "miforwZjMem-",
        "outputId": "b4dda63a-8c59-4f15-a0f7-01a6412e8aa8"
      },
      "execution_count": 35,
      "outputs": [
        {
          "output_type": "stream",
          "name": "stdout",
          "text": [
            "Storm bkh - Training Size: 328, Testing Size: 82\n",
            "Processed Storm bkh\n"
          ]
        },
        {
          "output_type": "display_data",
          "data": {
            "text/plain": [
              "<Figure size 1000x600 with 1 Axes>"
            ],
            "image/png": "[encoded data removed]"
          },
          "metadata": {}
        },
        {
          "output_type": "stream",
          "name": "stdout",
          "text": [
            "     Time Data  Label Data storm_id  predicted\n",
            "0            0          25      bkh   0.000000\n",
            "1         1801          25      bkh   0.000000\n",
            "2         3600          25      bkh   0.000000\n",
            "3         5400          25      bkh   0.000000\n",
            "4         7200          25      bkh   0.000000\n",
            "..         ...         ...      ...        ...\n",
            "405    1022400          30      bkh  30.552148\n",
            "406    1026001          30      bkh  30.504232\n",
            "407    1027801          30      bkh  30.480493\n",
            "408    1029601          30      bkh  30.456892\n",
            "409    1031401          30      bkh  30.433428\n",
            "\n",
            "[410 rows x 4 columns]\n"
          ]
        }
      ]
    },
    {
      "cell_type": "code",
      "source": [],
      "metadata": {
        "id": "ChApQxYnAxEy"
      },
      "execution_count": null,
      "outputs": []
    }
  ]
}